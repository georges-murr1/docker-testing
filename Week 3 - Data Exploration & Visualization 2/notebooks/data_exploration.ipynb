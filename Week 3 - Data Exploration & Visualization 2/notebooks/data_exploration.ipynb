{
 "cells": [
  {
   "cell_type": "code",
   "execution_count": 1,
   "metadata": {},
   "outputs": [
    {
     "data": {
      "text/html": [
       "<div>\n",
       "<style scoped>\n",
       "    .dataframe tbody tr th:only-of-type {\n",
       "        vertical-align: middle;\n",
       "    }\n",
       "\n",
       "    .dataframe tbody tr th {\n",
       "        vertical-align: top;\n",
       "    }\n",
       "\n",
       "    .dataframe thead th {\n",
       "        text-align: right;\n",
       "    }\n",
       "</style>\n",
       "<table border=\"1\" class=\"dataframe\">\n",
       "  <thead>\n",
       "    <tr style=\"text-align: right;\">\n",
       "      <th></th>\n",
       "      <th>timestamp</th>\n",
       "      <th>alert_type</th>\n",
       "      <th>severity</th>\n",
       "      <th>message</th>\n",
       "    </tr>\n",
       "  </thead>\n",
       "  <tbody>\n",
       "    <tr>\n",
       "      <th>0</th>\n",
       "      <td>2025-02-20 12:00:00</td>\n",
       "      <td>critical</td>\n",
       "      <td>high</td>\n",
       "      <td>Critical alert: system overload</td>\n",
       "    </tr>\n",
       "    <tr>\n",
       "      <th>1</th>\n",
       "      <td>2025-02-20 12:05:00</td>\n",
       "      <td>warning</td>\n",
       "      <td>medium</td>\n",
       "      <td>Warning: high memory usage</td>\n",
       "    </tr>\n",
       "    <tr>\n",
       "      <th>2</th>\n",
       "      <td>2025-02-20 12:10:00</td>\n",
       "      <td>info</td>\n",
       "      <td>low</td>\n",
       "      <td>Info: scheduled maintenance</td>\n",
       "    </tr>\n",
       "    <tr>\n",
       "      <th>3</th>\n",
       "      <td>2025-02-20 12:15:00</td>\n",
       "      <td>critical</td>\n",
       "      <td>high</td>\n",
       "      <td>Critical alert: service unavailable</td>\n",
       "    </tr>\n",
       "    <tr>\n",
       "      <th>4</th>\n",
       "      <td>2025-02-20 12:20:00</td>\n",
       "      <td>warning</td>\n",
       "      <td>medium</td>\n",
       "      <td>Warning: slow response time</td>\n",
       "    </tr>\n",
       "  </tbody>\n",
       "</table>\n",
       "</div>"
      ],
      "text/plain": [
       "            timestamp alert_type severity                              message\n",
       "0 2025-02-20 12:00:00   critical     high      Critical alert: system overload\n",
       "1 2025-02-20 12:05:00    warning   medium           Warning: high memory usage\n",
       "2 2025-02-20 12:10:00       info      low          Info: scheduled maintenance\n",
       "3 2025-02-20 12:15:00   critical     high  Critical alert: service unavailable\n",
       "4 2025-02-20 12:20:00    warning   medium          Warning: slow response time"
      ]
     },
     "execution_count": 1,
     "metadata": {},
     "output_type": "execute_result"
    }
   ],
   "source": [
    "import pandas as pd\n",
    "from io import StringIO\n",
    "\n",
    "data = \"\"\"timestamp,alert_type,severity,message\n",
    "2025-02-20 12:00:00,critical,high,\"Critical alert: system overload\"\n",
    "2025-02-20 12:05:00,warning,medium,\"Warning: high memory usage\"\n",
    "2025-02-20 12:10:00,info,low,\"Info: scheduled maintenance\"\n",
    "2025-02-20 12:15:00,critical,high,\"Critical alert: service unavailable\"\n",
    "2025-02-20 12:20:00,warning,medium,\"Warning: slow response time\"\n",
    "\"\"\"\n",
    "\n",
    "df = pd.read_csv(StringIO(data))\n",
    "df['timestamp'] = pd.to_datetime(df['timestamp'])\n",
    "df"
   ]
  }
 ],
 "metadata": {
  "kernelspec": {
   "display_name": "Python 3",
   "language": "python",
   "name": "python3"
  },
  "language_info": {
   "codemirror_mode": {
    "name": "ipython",
    "version": 3
   },
   "file_extension": ".py",
   "mimetype": "text/x-python",
   "name": "python",
   "nbconvert_exporter": "python",
   "pygments_lexer": "ipython3",
   "version": "3.12.4"
  }
 },
 "nbformat": 4,
 "nbformat_minor": 2
}
